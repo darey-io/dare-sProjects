{
 "cells": [
  {
   "cell_type": "code",
   "execution_count": 3,
   "metadata": {
    "collapsed": false
   },
   "outputs": [
    {
     "name": "stdout",
     "output_type": "stream",
     "text": [
      "/Users/dare.olufunmilayo/GIT/Scripts/Python/downloads/extracts/csvPath\n"
     ]
    }
   ],
   "source": [
    "import os\n",
    "import sys\n",
    "from ftplib import FTP, error_perm\n",
    "import patoolib\n",
    "import glob\n",
    "import patoolib\n",
    "import pandas as pd\n",
    "currentPath=os.getcwd()\n",
    "\n",
    "#os.chdir('/Users/dare.olufunmilayo/GIT/Scripts/Python/downloads/extracts/csvPath')\n",
    "#print(currentPath)"
   ]
  },
  {
   "cell_type": "code",
   "execution_count": 3,
   "metadata": {
    "collapsed": false
   },
   "outputs": [],
   "source": [
    "def weatherDataDownloader(stationId,startYear,endYear,url=\"ftp.pyclass.com\",user=\"student@pyclass.com\",passwd=\"student123\"):\n",
    "    ftp = FTP(url)\n",
    "    ftp.login(user,passwd)    \n",
    "    if os.path.basename(currentPath) == \"downloads\":\n",
    "        downloadDir=currentPath\n",
    "    else:\n",
    "        downloadDir=currentPath+\"/downloads/\"\n",
    "    if not os.path.exists(downloadDir):\n",
    "        os.makedirs(downloadDir)\n",
    "    try:\n",
    "        os.chdir(downloadDir)\n",
    "        listOfFiles = glob.glob('*.gz')\n",
    "    except FileNotFoundError:\n",
    "        print('FileNotFound error')\n",
    "        pass  \n",
    "    \n",
    "    for Year in range(startYear , endYear + 1):\n",
    "            #Full path of the FTP direcorty\n",
    "        fullPath = '/Data/%s/%s-%s.gz' % (Year,stationId, Year)\n",
    "        filename = os.path.basename(fullPath) \n",
    "        if listOfFiles != []:\n",
    "            print('Files already exist in this directory')\n",
    "            break\n",
    "        try:\n",
    "            with open(filename, \"wb\") as file:\n",
    "                ftp.retrbinary('RETR %s' % fullPath , file.write)                     \n",
    "            print('%s downloaded successfully' % filename)\n",
    "        except error_perm:\n",
    "            print('%s is not available for download' % filename)\n",
    "            os.remove(filename)\n",
    "        except TypeError:\n",
    "            print('If you quoted the years, remove the quotes and try again')\n",
    "    ftp.close()\n",
    "        \n",
    "# What happens if i try to download a wrong file and files already exist in the download directory?\n",
    "# I need to create another directory inside the downloads folder to reflect the specific station and year range that is being downloaded\n",
    "# Serialize the user name and password using pickle\n"
   ]
  },
  {
   "cell_type": "code",
   "execution_count": 28,
   "metadata": {
    "collapsed": false
   },
   "outputs": [],
   "source": [
    "\n",
    "def weatherDataExctractor():\n",
    "    \n",
    "    if os.path.basename(currentPath) == \"downloads\":\n",
    "        downloadedDir=currentPath\n",
    "    else:\n",
    "        downloadedDir=currentPath+\"/downloads/\"\n",
    "    extractedDir=downloadedDir + \"/extracts\"\n",
    "    if not os.path.exists(extractedDir):\n",
    "        os.makedirs(extractedDir)\n",
    "    try:\n",
    "        os.chdir(downloadedDir)\n",
    "        listOfFiles = glob.glob('*.gz')\n",
    "    except FileNotFoundError:\n",
    "        print('FileNotFound error')\n",
    "    if os.listdir(extractedDir) == []:        \n",
    "        for file in listOfFiles:\n",
    "                patoolib.extract_archive(file, outdir=extractedDir)\n",
    "                print('files extratced check %s' % extractedDir)\n",
    "    else:\n",
    "        print('Extracted files already exist. review the files contained in %s' % extractedDir)\n",
    "        sys.exit()\n",
    "        #Add additional Field to file\n",
    "    print('Adding stationID column to all the files...')\n",
    "    os.chdir(extractedDir)\n",
    "    listExtractedFiles= glob.glob('*')\n",
    "    print(os.getcwd())\n",
    "    csvPath = extractedDir+\"/csvPath\"\n",
    "    if not os.path.exists(csvPath):\n",
    "        os.makedirs(csvPath)\n",
    "    if os.listdir(csvPath) != []:\n",
    "        print('Csv files already exist')\n",
    "        sys.exit()\n",
    "    for extractedFile in listExtractedFiles:\n",
    "        try:\n",
    "            df = pd.read_csv(extractedFile, sep='\\s+', header=None)\n",
    "            df['stationID']= [extractedFile.rsplit('-', 1)[0]]*df.shape[0] \n",
    "            df.to_csv(csvPath+\"/\"+extractedFile+\".csv\", index=0, header=None)\n",
    "        except Exception:\n",
    "            print('Some empty data exist, but some of the files have been extracted. Check the directory' )\n",
    "        except OSError:\n",
    "            print('you are not in the correct directory')\n",
    "        except EmptyDataError:\n",
    "            print('empty data error occured')\n",
    "\n",
    "    \n",
    "def concatenateFiles(inDir):\n",
    "    #os.chdir(inDir)\n",
    "    concatenatedDir=inDir+\"/concatenated\"\n",
    "    if not os.path.exists(concatenatedDir):\n",
    "        os.makedirs(concatenatedDir)\n",
    "    listofFiles= os.listdir(inDir)\n",
    "    DFfiles= []\n",
    "    DFcolumns = ['Year', 'Month', 'Day', 'Hour', 'Temp', 'DewTemp', 'Pressure', 'WinDir', 'WinSpeed', 'Sky', 'Precipitation1', 'Precipitation6', 'StationID']\n",
    "    #os.chdir(concatenatedDir)\n",
    "    for file in listofFiles:\n",
    "        df= pd.read_csv(file, header=None)\n",
    "        DFfiles.append(df)\n",
    "    concatDF=pd.concat(DFfiles, axis=0)\n",
    "    concatDF.columns(DFcolumns)\n",
    "    concatDF.to_csv(concatenatedDir, index = 0)\n",
    "\n",
    "    "
   ]
  },
  {
   "cell_type": "code",
   "execution_count": 7,
   "metadata": {
    "collapsed": false
   },
   "outputs": [
    {
     "name": "stdout",
     "output_type": "stream",
     "text": [
      "Files already exist in this directory\n"
     ]
    }
   ],
   "source": [
    "weatherDataDownloader('029070-99999',1901,1926)"
   ]
  },
  {
   "cell_type": "code",
   "execution_count": null,
   "metadata": {
    "collapsed": false
   },
   "outputs": [],
   "source": [
    "weatherDataExctractor()\n"
   ]
  },
  {
   "cell_type": "code",
   "execution_count": null,
   "metadata": {
    "collapsed": false
   },
   "outputs": [],
   "source": [
    "concatenateFiles('/Users/dare.olufunmilayo/GIT/Scripts/Python/downloads/extracts/csvPath')"
   ]
  },
  {
   "cell_type": "code",
   "execution_count": 27,
   "metadata": {
    "collapsed": false
   },
   "outputs": [
    {
     "name": "stdout",
     "output_type": "stream",
     "text": [
      "/Users/dare.olufunmilayo/GIT/Scripts/Python/downloads/extracts/csvPath\n",
      "['029070-99999-1901.csv', '029070-99999-1902.csv', '029070-99999-1903.csv', '029070-99999-1904.csv', '029070-99999-1905.csv', 'cancatenated']\n"
     ]
    }
   ],
   "source": [
    "print(os.getcwd())\n",
    "print(os.listdir())"
   ]
  },
  {
   "cell_type": "code",
   "execution_count": 15,
   "metadata": {
    "collapsed": true
   },
   "outputs": [],
   "source": [
    "os.chdir('/Users/dare.olufunmilayo/GIT/Scripts/Python/downloads/extracts/csvPath')"
   ]
  },
  {
   "cell_type": "code",
   "execution_count": 38,
   "metadata": {
    "collapsed": false
   },
   "outputs": [
    {
     "data": {
      "text/plain": [
       "<bound method NDFrame.head of         0   1   2   3    4     5      6    7    8   9     10    11  \\\n",
       "0     1901   1   1   6  -78 -9999  10200  270  159   8 -9999 -9999   \n",
       "1     1901   1   1  13  -72 -9999  10200  290   82   4 -9999 -9999   \n",
       "2     1901   1   1  20  -94 -9999  10200    0    0   8 -9999 -9999   \n",
       "3     1901   1   2   6  -61 -9999  10183  180   82   8 -9999 -9999   \n",
       "4     1901   1   2  13  -56 -9999  10176  180   98   8 -9999 -9999   \n",
       "5     1901   1   2  20  -28 -9999  10175  180   98   8 -9999 -9999   \n",
       "6     1901   1   3   6  -67 -9999  10170  200   98   6 -9999 -9999   \n",
       "7     1901   1   3  13  -33 -9999  10174  230  118   8 -9999 -9999   \n",
       "8     1901   1   3  20  -28 -9999  10174  230  118   8 -9999 -9999   \n",
       "9     1901   1   4   6  -33 -9999  10231    0    0   8 -9999 -9999   \n",
       "10    1901   1   4  13  -44 -9999  10226  230   82   8 -9999 -9999   \n",
       "11    1901   1   4  20  -39 -9999  10223  200  118   8 -9999 -9999   \n",
       "12    1901   1   5   6    0 -9999  10182  270   41   4 -9999 -9999   \n",
       "13    1901   1   5  13    6 -9999  10259  270   21   4 -9999 -9999   \n",
       "14    1901   1   5  20    0 -9999  10267  230   41   4 -9999 -9999   \n",
       "15    1901   1   6   6    6 -9999  10275  270   62   3 -9999 -9999   \n",
       "16    1901   1   6  13    6 -9999  10298  270   62   0 -9999 -9999   \n",
       "17    1901   1   6  20  -11 -9999  10319  320   21   0 -9999 -9999   \n",
       "18    1901   1   7   6  -33 -9999  10334    0    0   0 -9999 -9999   \n",
       "19    1901   1   7  13  -50 -9999  10332    0    0   0 -9999 -9999   \n",
       "20    1901   1   7  20  -44 -9999  10332  200   98   0 -9999 -9999   \n",
       "21    1901   1   8   6  -28 -9999  10322  230   98   8 -9999 -9999   \n",
       "22    1901   1   8  13  -33 -9999  10320  230  118   8 -9999 -9999   \n",
       "23    1901   1   8  20  -33 -9999  10299  230  139   8 -9999 -9999   \n",
       "24    1901   1   9   6  -50 -9999  10287    0    0   8 -9999 -9999   \n",
       "25    1901   1   9  13  -33 -9999  10266    0    0   8 -9999 -9999   \n",
       "26    1901   1   9  20  -28 -9999  10239  180   98   8 -9999 -9999   \n",
       "27    1901   1  10   6  -44 -9999  10160  230   98   0 -9999 -9999   \n",
       "28    1901   1  10  13  -44 -9999  10148  230  118   0 -9999 -9999   \n",
       "29    1901   1  10  20  -44 -9999  10138  230  139   0 -9999 -9999   \n",
       "...    ...  ..  ..  ..  ...   ...    ...  ...  ...  ..   ...   ...   \n",
       "1065  1901  12  22   6  -83 -9999  10191  360   82   4 -9999 -9999   \n",
       "1066  1901  12  22  13  -94 -9999  10203  360   82   4 -9999 -9999   \n",
       "1067  1901  12  22  20  -94 -9999  10224  360   62   3 -9999 -9999   \n",
       "1068  1901  12  23   6 -122 -9999  10232   90   62   8 -9999 -9999   \n",
       "1069  1901  12  23  13 -128 -9999  10236    0    0   8 -9999 -9999   \n",
       "1070  1901  12  23  20 -144 -9999  10242    0    0   4 -9999 -9999   \n",
       "1071  1901  12  24   6 -100 -9999  10200  200   98   8 -9999 -9999   \n",
       "1072  1901  12  24  13  -83 -9999  10194  160   98   8 -9999 -9999   \n",
       "1073  1901  12  24  20  -94 -9999  10187  200  118   5 -9999 -9999   \n",
       "1074  1901  12  25   6 -106 -9999  10175  200   98   7 -9999 -9999   \n",
       "1075  1901  12  25  13 -106 -9999  10166  180   82   6 -9999 -9999   \n",
       "1076  1901  12  25  20 -117 -9999  10150  160   41   6 -9999 -9999   \n",
       "1077  1901  12  26   6 -144 -9999  10139  140   62   5 -9999 -9999   \n",
       "1078  1901  12  26  13 -161 -9999  10138  140   62   4 -9999 -9999   \n",
       "1079  1901  12  26  20 -167 -9999  10132  140   41   0 -9999 -9999   \n",
       "1080  1901  12  27   6 -156 -9999  10119  110   98   5 -9999 -9999   \n",
       "1081  1901  12  27  13 -128 -9999  10106  110   98   8 -9999 -9999   \n",
       "1082  1901  12  27  20 -117 -9999  10112  110  118   8 -9999 -9999   \n",
       "1083  1901  12  28   6 -117 -9999  10098  110  118   8 -9999 -9999   \n",
       "1084  1901  12  28  13 -117 -9999  10095  110  118   8 -9999 -9999   \n",
       "1085  1901  12  28  20 -117 -9999  10094  110  118   8 -9999 -9999   \n",
       "1086  1901  12  29   6 -128 -9999  10112    0    0   6 -9999 -9999   \n",
       "1087  1901  12  29  13 -122 -9999  10120    0    0   8 -9999 -9999   \n",
       "1088  1901  12  29  20 -122 -9999  10132   70   62   8 -9999 -9999   \n",
       "1089  1901  12  30   6 -106 -9999  10132   70   82   8 -9999 -9999   \n",
       "1090  1901  12  30  13 -106 -9999  10124   70   98   8 -9999 -9999   \n",
       "1091  1901  12  30  20  -89 -9999  10120   70  118   8 -9999 -9999   \n",
       "1092  1901  12  31   6  -72 -9999  10084  110   98   8 -9999 -9999   \n",
       "1093  1901  12  31  13  -72 -9999  10080  110   98   8 -9999 -9999   \n",
       "1094  1901  12  31  20  -83 -9999  10071   90   98   8 -9999 -9999   \n",
       "\n",
       "                12  \n",
       "0     029070-99999  \n",
       "1     029070-99999  \n",
       "2     029070-99999  \n",
       "3     029070-99999  \n",
       "4     029070-99999  \n",
       "5     029070-99999  \n",
       "6     029070-99999  \n",
       "7     029070-99999  \n",
       "8     029070-99999  \n",
       "9     029070-99999  \n",
       "10    029070-99999  \n",
       "11    029070-99999  \n",
       "12    029070-99999  \n",
       "13    029070-99999  \n",
       "14    029070-99999  \n",
       "15    029070-99999  \n",
       "16    029070-99999  \n",
       "17    029070-99999  \n",
       "18    029070-99999  \n",
       "19    029070-99999  \n",
       "20    029070-99999  \n",
       "21    029070-99999  \n",
       "22    029070-99999  \n",
       "23    029070-99999  \n",
       "24    029070-99999  \n",
       "25    029070-99999  \n",
       "26    029070-99999  \n",
       "27    029070-99999  \n",
       "28    029070-99999  \n",
       "29    029070-99999  \n",
       "...            ...  \n",
       "1065  029070-99999  \n",
       "1066  029070-99999  \n",
       "1067  029070-99999  \n",
       "1068  029070-99999  \n",
       "1069  029070-99999  \n",
       "1070  029070-99999  \n",
       "1071  029070-99999  \n",
       "1072  029070-99999  \n",
       "1073  029070-99999  \n",
       "1074  029070-99999  \n",
       "1075  029070-99999  \n",
       "1076  029070-99999  \n",
       "1077  029070-99999  \n",
       "1078  029070-99999  \n",
       "1079  029070-99999  \n",
       "1080  029070-99999  \n",
       "1081  029070-99999  \n",
       "1082  029070-99999  \n",
       "1083  029070-99999  \n",
       "1084  029070-99999  \n",
       "1085  029070-99999  \n",
       "1086  029070-99999  \n",
       "1087  029070-99999  \n",
       "1088  029070-99999  \n",
       "1089  029070-99999  \n",
       "1090  029070-99999  \n",
       "1091  029070-99999  \n",
       "1092  029070-99999  \n",
       "1093  029070-99999  \n",
       "1094  029070-99999  \n",
       "\n",
       "[1095 rows x 13 columns]>"
      ]
     },
     "execution_count": 38,
     "metadata": {},
     "output_type": "execute_result"
    }
   ],
   "source": [
    "df= pd.read_csv('/Users/dare.olufunmilayo/GIT/Scripts/Python/downloads/extracts/csvPath/029070-99999-1901.csv',header = None)\n",
    "df.head"
   ]
  },
  {
   "cell_type": "code",
   "execution_count": null,
   "metadata": {
    "collapsed": false
   },
   "outputs": [],
   "source": []
  },
  {
   "cell_type": "code",
   "execution_count": null,
   "metadata": {
    "collapsed": true
   },
   "outputs": [],
   "source": []
  }
 ],
 "metadata": {
  "anaconda-cloud": {},
  "kernelspec": {
   "display_name": "Python [conda root]",
   "language": "python",
   "name": "conda-root-py"
  },
  "language_info": {
   "codemirror_mode": {
    "name": "ipython",
    "version": 3
   },
   "file_extension": ".py",
   "mimetype": "text/x-python",
   "name": "python",
   "nbconvert_exporter": "python",
   "pygments_lexer": "ipython3",
   "version": "3.5.2"
  }
 },
 "nbformat": 4,
 "nbformat_minor": 1
}
