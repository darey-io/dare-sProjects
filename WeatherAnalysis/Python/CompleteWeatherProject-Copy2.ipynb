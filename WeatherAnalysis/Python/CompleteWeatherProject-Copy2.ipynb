{
 "cells": [
  {
   "cell_type": "code",
   "execution_count": 17,
   "metadata": {
    "collapsed": false
   },
   "outputs": [
    {
     "name": "stderr",
     "output_type": "stream",
     "text": [
      "ERROR:root:Internal Python error in the inspect module.\n",
      "Below is the traceback from this internal error.\n",
      "\n"
     ]
    },
    {
     "name": "stdout",
     "output_type": "stream",
     "text": [
      "Traceback (most recent call last):\n",
      "  File \"/Users/dare.olufunmilayo/anaconda/lib/python3.5/site-packages/IPython/core/interactiveshell.py\", line 2881, in run_code\n",
      "    exec(code_obj, self.user_global_ns, self.user_ns)\n",
      "  File \"<ipython-input-17-9ec973e27e09>\", line 8, in <module>\n",
      "    currentPath=os.getcwd()\n",
      "FileNotFoundError: [Errno 2] No such file or directory\n",
      "\n",
      "During handling of the above exception, another exception occurred:\n",
      "\n",
      "Traceback (most recent call last):\n",
      "  File \"/Users/dare.olufunmilayo/anaconda/lib/python3.5/site-packages/IPython/core/interactiveshell.py\", line 1821, in showtraceback\n",
      "    stb = value._render_traceback_()\n",
      "AttributeError: 'FileNotFoundError' object has no attribute '_render_traceback_'\n",
      "\n",
      "During handling of the above exception, another exception occurred:\n",
      "\n",
      "Traceback (most recent call last):\n",
      "  File \"/Users/dare.olufunmilayo/anaconda/lib/python3.5/site-packages/IPython/core/ultratb.py\", line 1132, in get_records\n",
      "    return _fixed_getinnerframes(etb, number_of_lines_of_context, tb_offset)\n",
      "  File \"/Users/dare.olufunmilayo/anaconda/lib/python3.5/site-packages/IPython/core/ultratb.py\", line 313, in wrapped\n",
      "    return f(*args, **kwargs)\n",
      "  File \"/Users/dare.olufunmilayo/anaconda/lib/python3.5/site-packages/IPython/core/ultratb.py\", line 358, in _fixed_getinnerframes\n",
      "    records = fix_frame_records_filenames(inspect.getinnerframes(etb, context))\n",
      "  File \"/Users/dare.olufunmilayo/anaconda/lib/python3.5/inspect.py\", line 1453, in getinnerframes\n",
      "    frameinfo = (tb.tb_frame,) + getframeinfo(tb, context)\n",
      "  File \"/Users/dare.olufunmilayo/anaconda/lib/python3.5/inspect.py\", line 1410, in getframeinfo\n",
      "    filename = getsourcefile(frame) or getfile(frame)\n",
      "  File \"/Users/dare.olufunmilayo/anaconda/lib/python3.5/inspect.py\", line 672, in getsourcefile\n",
      "    if getattr(getmodule(object, filename), '__loader__', None) is not None:\n",
      "  File \"/Users/dare.olufunmilayo/anaconda/lib/python3.5/inspect.py\", line 701, in getmodule\n",
      "    file = getabsfile(object, _filename)\n",
      "  File \"/Users/dare.olufunmilayo/anaconda/lib/python3.5/inspect.py\", line 685, in getabsfile\n",
      "    return os.path.normcase(os.path.abspath(_filename))\n",
      "  File \"/Users/dare.olufunmilayo/anaconda/lib/python3.5/posixpath.py\", line 361, in abspath\n",
      "    cwd = os.getcwd()\n",
      "FileNotFoundError: [Errno 2] No such file or directory\n"
     ]
    },
    {
     "ename": "FileNotFoundError",
     "evalue": "[Errno 2] No such file or directory",
     "output_type": "error",
     "traceback": [
      "\u001b[0;31m---------------------------------------------------------------------------\u001b[0m"
     ]
    }
   ],
   "source": [
    "import os\n",
    "import sys\n",
    "from ftplib import FTP, error_perm\n",
    "import patoolib\n",
    "import glob\n",
    "import patoolib\n",
    "import pandas as pd\n",
    "currentPath=os.getcwd()\n",
    "print(currentPath)"
   ]
  },
  {
   "cell_type": "code",
   "execution_count": 3,
   "metadata": {
    "collapsed": false
   },
   "outputs": [],
   "source": [
    "def weatherDataDownloader(stationId,startYear,endYear,url=\"ftp.pyclass.com\",user=\"student@pyclass.com\",passwd=\"student123\"):\n",
    "    ftp = FTP(url)\n",
    "    ftp.login(user,passwd)    \n",
    "    if os.path.basename(currentPath) == \"downloads\":\n",
    "        downloadDir=currentPath\n",
    "    else:\n",
    "        downloadDir=currentPath+\"/downloads/\"\n",
    "    if not os.path.exists(downloadDir):\n",
    "        os.makedirs(downloadDir)\n",
    "    try:\n",
    "        os.chdir(downloadDir)\n",
    "        listOfFiles = glob.glob('*.gz')\n",
    "    except FileNotFoundError:\n",
    "        print('FileNotFound error')\n",
    "        pass  \n",
    "    \n",
    "    for Year in range(startYear , endYear + 1):\n",
    "            #Full path of the FTP direcorty\n",
    "        fullPath = '/Data/%s/%s-%s.gz' % (Year,stationId, Year)\n",
    "        filename = os.path.basename(fullPath) \n",
    "        if listOfFiles != []:\n",
    "            print('Files already exist in this directory')\n",
    "            break\n",
    "        try:\n",
    "            with open(filename, \"wb\") as file:\n",
    "                ftp.retrbinary('RETR %s' % fullPath , file.write)                     \n",
    "            print('%s downloaded successfully' % filename)\n",
    "        except error_perm:\n",
    "            print('%s is not available for download' % filename)\n",
    "            os.remove(filename)\n",
    "        except TypeError:\n",
    "            print('If you quoted the years, remove the quotes and try again')\n",
    "    ftp.close()\n",
    "        \n",
    "# What happens if i try to download a wrong file and files already exist in the download directory?\n",
    "# I need to create another directory inside the downloads folder to reflect the specific station and year range that is being downloaded\n",
    "# Serialize the user name and password using pickle\n"
   ]
  },
  {
   "cell_type": "code",
   "execution_count": 14,
   "metadata": {
    "collapsed": false
   },
   "outputs": [],
   "source": [
    "\n",
    "def weatherDataExctractor():\n",
    "    \n",
    "    if os.path.basename(currentPath) == \"downloads\":\n",
    "        downloadedDir=currentPath\n",
    "    else:\n",
    "        downloadedDir=currentPath+\"/downloads/\"\n",
    "    extractedDir=downloadedDir + \"/extracts\"\n",
    "    if not os.path.exists(extractedDir):\n",
    "        os.makedirs(extractedDir)\n",
    "    try:\n",
    "        os.chdir(downloadedDir)\n",
    "        listOfFiles = glob.glob('*.gz')\n",
    "    except FileNotFoundError:\n",
    "        print('FileNotFound error')\n",
    "    if os.listdir(extractedDir) == []:        \n",
    "        for file in listOfFiles:\n",
    "                patoolib.extract_archive(file, outdir=extractedDir)\n",
    "                print('files extratced check %s' % extractedDir)\n",
    "    else:\n",
    "        print('Extracted files already exist. review the files contained in %s' % extractedDir)\n",
    "        sys.exit()\n",
    "        #Add additional Field to file\n",
    "    print('Adding stationID column to all the files...')\n",
    "    os.chdir(extractedDir)\n",
    "    listExtractedFiles= glob.glob('*')\n",
    "    print(os.getcwd())\n",
    "    csvPath = extractedDir+\"/csvPath\"\n",
    "    if not os.path.exists(csvPath):\n",
    "        os.makedirs(csvPath)\n",
    "    if os.listdir(csvPath) != []:\n",
    "        print('Csv files already exist')\n",
    "        sys.exit()\n",
    "    for extractedFile in listExtractedFiles:\n",
    "        try:\n",
    "            df = pd.read_csv(extractedFile, sep='\\s+', header=None)\n",
    "            df['stationID']= [extractedFile.rsplit('-', 1)[0]]*df.shape[0] \n",
    "            df.to_csv(csvPath+\"/\"+extractedFile+\".csv\", index=0, header=None)\n",
    "        except Exception:\n",
    "            print('Some empty data exist, but some of the files have been extracted. Check the directory' )\n",
    "        except OSError:\n",
    "            print('you are not in the correct directory')\n",
    "        except EmptyDataError:\n",
    "            print('empty data error occured')\n",
    "\n",
    "    \n",
    "def concatenateFiles(inDir):\n",
    "    os.chdir(inDir)\n",
    "    concatenatedDir=inDir+\"/cancatenated\"\n",
    "    if not os.path.exists(concatenatedDir):\n",
    "        os.makedirs(concatenatedDir)\n",
    "    listofFiles= glob.glob('*')\n",
    "    DFfiles= []\n",
    "    DFcolumns = ['Year', 'Month', 'Day', 'Hour', 'Temp', 'DewTemp', 'Pressure', 'WinDir', 'WinSpeed', 'Sky', 'Precipitation1', 'Precipitation6', 'StationID']\n",
    "    os.chdir(concatenatedDir)\n",
    "    for file in listofFiles:\n",
    "        df= pd.read_csv(file, header=None)\n",
    "        DFfiles.append(df)\n",
    "    concatDF=pd.concat(DFfiles, axis=0)\n",
    "    concatDF.columns(DFcolumns)\n",
    "    concatDF.to_csv(concatenatedDir, index = 0)\n",
    "\n",
    "    "
   ]
  },
  {
   "cell_type": "code",
   "execution_count": 7,
   "metadata": {
    "collapsed": false
   },
   "outputs": [
    {
     "name": "stdout",
     "output_type": "stream",
     "text": [
      "Files already exist in this directory\n"
     ]
    }
   ],
   "source": [
    "weatherDataDownloader('029070-99999',1901,1926)"
   ]
  },
  {
   "cell_type": "code",
   "execution_count": 10,
   "metadata": {
    "collapsed": false
   },
   "outputs": [
    {
     "name": "stdout",
     "output_type": "stream",
     "text": [
      "Extracted files already exist. review the files contained in /Users/dare.olufunmilayo/GIT/Scripts/Python/downloads//extracts\n"
     ]
    },
    {
     "ename": "SystemExit",
     "evalue": "",
     "output_type": "error",
     "traceback": [
      "An exception has occurred, use %tb to see the full traceback.\n",
      "\u001b[0;31mSystemExit\u001b[0m\n"
     ]
    },
    {
     "name": "stderr",
     "output_type": "stream",
     "text": [
      "/Users/dare.olufunmilayo/anaconda/lib/python3.5/site-packages/IPython/core/interactiveshell.py:2889: UserWarning: To exit: use 'exit', 'quit', or Ctrl-D.\n",
      "  warn(\"To exit: use 'exit', 'quit', or Ctrl-D.\", stacklevel=1)\n"
     ]
    }
   ],
   "source": [
    "weatherDataExctractor()\n"
   ]
  },
  {
   "cell_type": "code",
   "execution_count": 16,
   "metadata": {
    "collapsed": false
   },
   "outputs": [
    {
     "name": "stderr",
     "output_type": "stream",
     "text": [
      "ERROR:root:Internal Python error in the inspect module.\n",
      "Below is the traceback from this internal error.\n",
      "\n"
     ]
    },
    {
     "name": "stdout",
     "output_type": "stream",
     "text": [
      "Traceback (most recent call last):\n",
      "  File \"/Users/dare.olufunmilayo/anaconda/lib/python3.5/site-packages/IPython/core/interactiveshell.py\", line 2881, in run_code\n",
      "    exec(code_obj, self.user_global_ns, self.user_ns)\n",
      "  File \"<ipython-input-16-f93e377e3d99>\", line 1, in <module>\n",
      "    print (os.getcwd())\n",
      "FileNotFoundError: [Errno 2] No such file or directory\n",
      "\n",
      "During handling of the above exception, another exception occurred:\n",
      "\n",
      "Traceback (most recent call last):\n",
      "  File \"/Users/dare.olufunmilayo/anaconda/lib/python3.5/site-packages/IPython/core/interactiveshell.py\", line 1821, in showtraceback\n",
      "    stb = value._render_traceback_()\n",
      "AttributeError: 'FileNotFoundError' object has no attribute '_render_traceback_'\n",
      "\n",
      "During handling of the above exception, another exception occurred:\n",
      "\n",
      "Traceback (most recent call last):\n",
      "  File \"/Users/dare.olufunmilayo/anaconda/lib/python3.5/site-packages/IPython/core/ultratb.py\", line 1132, in get_records\n",
      "    return _fixed_getinnerframes(etb, number_of_lines_of_context, tb_offset)\n",
      "  File \"/Users/dare.olufunmilayo/anaconda/lib/python3.5/site-packages/IPython/core/ultratb.py\", line 313, in wrapped\n",
      "    return f(*args, **kwargs)\n",
      "  File \"/Users/dare.olufunmilayo/anaconda/lib/python3.5/site-packages/IPython/core/ultratb.py\", line 358, in _fixed_getinnerframes\n",
      "    records = fix_frame_records_filenames(inspect.getinnerframes(etb, context))\n",
      "  File \"/Users/dare.olufunmilayo/anaconda/lib/python3.5/inspect.py\", line 1453, in getinnerframes\n",
      "    frameinfo = (tb.tb_frame,) + getframeinfo(tb, context)\n",
      "  File \"/Users/dare.olufunmilayo/anaconda/lib/python3.5/inspect.py\", line 1410, in getframeinfo\n",
      "    filename = getsourcefile(frame) or getfile(frame)\n",
      "  File \"/Users/dare.olufunmilayo/anaconda/lib/python3.5/inspect.py\", line 672, in getsourcefile\n",
      "    if getattr(getmodule(object, filename), '__loader__', None) is not None:\n",
      "  File \"/Users/dare.olufunmilayo/anaconda/lib/python3.5/inspect.py\", line 701, in getmodule\n",
      "    file = getabsfile(object, _filename)\n",
      "  File \"/Users/dare.olufunmilayo/anaconda/lib/python3.5/inspect.py\", line 685, in getabsfile\n",
      "    return os.path.normcase(os.path.abspath(_filename))\n",
      "  File \"/Users/dare.olufunmilayo/anaconda/lib/python3.5/posixpath.py\", line 361, in abspath\n",
      "    cwd = os.getcwd()\n",
      "FileNotFoundError: [Errno 2] No such file or directory\n"
     ]
    },
    {
     "ename": "FileNotFoundError",
     "evalue": "[Errno 2] No such file or directory",
     "output_type": "error",
     "traceback": [
      "\u001b[0;31m---------------------------------------------------------------------------\u001b[0m"
     ]
    }
   ],
   "source": [
    "print (os.getcwd())"
   ]
  },
  {
   "cell_type": "code",
   "execution_count": null,
   "metadata": {
    "collapsed": true
   },
   "outputs": [],
   "source": []
  }
 ],
 "metadata": {
  "anaconda-cloud": {},
  "kernelspec": {
   "display_name": "Python [conda root]",
   "language": "python",
   "name": "conda-root-py"
  },
  "language_info": {
   "codemirror_mode": {
    "name": "ipython",
    "version": 3
   },
   "file_extension": ".py",
   "mimetype": "text/x-python",
   "name": "python",
   "nbconvert_exporter": "python",
   "pygments_lexer": "ipython3",
   "version": "3.5.2"
  }
 },
 "nbformat": 4,
 "nbformat_minor": 1
}
