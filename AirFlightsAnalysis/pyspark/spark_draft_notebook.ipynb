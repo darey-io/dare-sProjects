{
 "cells": [
  {
   "cell_type": "code",
   "execution_count": 76,
   "metadata": {
    "collapsed": false
   },
   "outputs": [],
   "source": [
    "from datetime import datetime\n",
    "from collections import namedtuple\n",
    "\n",
    "airlines = sc.textFile('airlines.csv')\n",
    "flights = sc.textFile('flights.csv')\n",
    "airports = sc.textFile('airports.csv')\n",
    "\n",
    "flights_fields = ('flight_date', 'airlineline_code' ,'flight_num', 'source_airport', 'destination_airport', \n",
    "                  'departure_time', 'departure_delay','arrival_time','arrival_delay', 'airtime' , 'distance')\n",
    "flights_namedtuples = namedtuple('Flight', flights_fields)\n",
    "DATE_FMT = \"%Y-%m-%d\"\n",
    "TIME_FMT = \"%H%M\"\n",
    "\n",
    "def parse(row):\n",
    "    row[0] = datetime.strptime(row[0], DATE_FMT).date()\n",
    "    row[5] = datetime.strptime(row[5], TIME_FMT).time()\n",
    "    row[6] = float(row[6])\n",
    "    row[7] = datetime.strptime(row[7], TIME_FMT).time()\n",
    "    row[8] = float (row[8])\n",
    "    row[9] = float (row[9])\n",
    "    row[10] = float (row[10])\n",
    "    return flights_namedtuples(*row[:11])"
   ]
  },
  {
   "cell_type": "code",
   "execution_count": 77,
   "metadata": {
    "collapsed": true
   },
   "outputs": [],
   "source": [
    "parsed_flights = flights.map(lambda x: x.split(',')).map(parse)\n"
   ]
  },
  {
   "cell_type": "code",
   "execution_count": 71,
   "metadata": {
    "collapsed": false
   },
   "outputs": [
    {
     "data": {
      "text/plain": [
       "PythonRDD[115] at RDD at PythonRDD.scala:43"
      ]
     },
     "execution_count": 71,
     "metadata": {},
     "output_type": "execute_result"
    }
   ],
   "source": [
    "parsed_flights.persist()"
   ]
  },
  {
   "cell_type": "code",
   "execution_count": 78,
   "metadata": {
    "collapsed": false
   },
   "outputs": [
    {
     "data": {
      "text/plain": [
       "Flight(flight_date=datetime.date(2014, 4, 1), airlineline_code=u'19805', flight_num=u'1', source_airport=u'JFK', destination_airport=u'LAX', departure_time=datetime.time(8, 54), departure_delay=-6.0, arrival_time=datetime.time(12, 17), arrival_delay=2.0, airtime=355.0, distance=2475.0)"
      ]
     },
     "execution_count": 78,
     "metadata": {},
     "output_type": "execute_result"
    }
   ],
   "source": [
    "parsed_flights.first()"
   ]
  },
  {
   "cell_type": "code",
   "execution_count": 79,
   "metadata": {
    "collapsed": false
   },
   "outputs": [
    {
     "data": {
      "text/plain": [
       "[(u'19805', 46572644.0),\n",
       " (u'20304', 23135173.0),\n",
       " (u'19393', 70116607.0),\n",
       " (u'20366', 26726970.0),\n",
       " (u'20436', 5019744.0),\n",
       " (u'20355', 30257721.0),\n",
       " (u'19977', 51629879.0),\n",
       " (u'19690', 3317412.0),\n",
       " (u'20409', 22096230.0),\n",
       " (u'20437', 5615936.0),\n",
       " (u'19790', 57091355.0),\n",
       " (u'20398', 15353874.0),\n",
       " (u'21171', 6985682.0),\n",
       " (u'19930', 15133690.0)]"
      ]
     },
     "execution_count": 79,
     "metadata": {},
     "output_type": "execute_result"
    }
   ],
   "source": [
    "#Find the Average distance travelled by flights\n",
    "#total distance divided by the number of flights\n",
    "#parsed_flights.count()\n",
    "\n",
    "totalDistance=parsed_flights.map(lambda x: (x.airlineline_code, x.distance)).reduceByKey(lambda x, y: x + y)\n",
    "totalDistance.collect()"
   ]
  },
  {
   "cell_type": "code",
   "execution_count": 75,
   "metadata": {
    "collapsed": false
   },
   "outputs": [
    {
     "ename": "ValueError",
     "evalue": "dictionary update sequence element #0 has length 16; 2 is required",
     "output_type": "error",
     "traceback": [
      "\u001b[0;31m---------------------------------------------------------------------------\u001b[0m",
      "\u001b[0;31mValueError\u001b[0m                                Traceback (most recent call last)",
      "\u001b[0;32m<ipython-input-75-230111795a1b>\u001b[0m in \u001b[0;36m<module>\u001b[0;34m()\u001b[0m\n\u001b[0;32m----> 1\u001b[0;31m \u001b[0mairportslookup\u001b[0m \u001b[0;34m=\u001b[0m \u001b[0mairports\u001b[0m\u001b[0;34m.\u001b[0m\u001b[0mcollectAsMap\u001b[0m\u001b[0;34m(\u001b[0m\u001b[0;34m)\u001b[0m\u001b[0;34m\u001b[0m\u001b[0m\n\u001b[0m",
      "\u001b[0;32m/usr/local/spark/spark-1.6.0-bin-hadoop2.6/python/pyspark/rdd.py\u001b[0m in \u001b[0;36mcollectAsMap\u001b[0;34m(self)\u001b[0m\n\u001b[1;32m   1518\u001b[0m         \u001b[0;36m4\u001b[0m\u001b[0;34m\u001b[0m\u001b[0m\n\u001b[1;32m   1519\u001b[0m         \"\"\"\n\u001b[0;32m-> 1520\u001b[0;31m         \u001b[0;32mreturn\u001b[0m \u001b[0mdict\u001b[0m\u001b[0;34m(\u001b[0m\u001b[0mself\u001b[0m\u001b[0;34m.\u001b[0m\u001b[0mcollect\u001b[0m\u001b[0;34m(\u001b[0m\u001b[0;34m)\u001b[0m\u001b[0;34m)\u001b[0m\u001b[0;34m\u001b[0m\u001b[0m\n\u001b[0m\u001b[1;32m   1521\u001b[0m \u001b[0;34m\u001b[0m\u001b[0m\n\u001b[1;32m   1522\u001b[0m     \u001b[0;32mdef\u001b[0m \u001b[0mkeys\u001b[0m\u001b[0;34m(\u001b[0m\u001b[0mself\u001b[0m\u001b[0;34m)\u001b[0m\u001b[0;34m:\u001b[0m\u001b[0;34m\u001b[0m\u001b[0m\n",
      "\u001b[0;31mValueError\u001b[0m: dictionary update sequence element #0 has length 16; 2 is required"
     ]
    }
   ],
   "source": [
    "airportslookup = airports.collectAsMap()"
   ]
  },
  {
   "cell_type": "code",
   "execution_count": null,
   "metadata": {
    "collapsed": true
   },
   "outputs": [],
   "source": []
  }
 ],
 "metadata": {
  "anaconda-cloud": {},
  "kernelspec": {
   "display_name": "Python [conda env:py27]",
   "language": "python",
   "name": "conda-env-py27-py"
  },
  "language_info": {
   "codemirror_mode": {
    "name": "ipython",
    "version": 2
   },
   "file_extension": ".py",
   "mimetype": "text/x-python",
   "name": "python",
   "nbconvert_exporter": "python",
   "pygments_lexer": "ipython2",
   "version": "2.7.13"
  }
 },
 "nbformat": 4,
 "nbformat_minor": 1
}
